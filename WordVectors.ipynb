{
  "cells": [
    {
      "cell_type": "markdown",
      "metadata": {
        "id": "view-in-github",
        "colab_type": "text"
      },
      "source": [
        "<a href=\"https://colab.research.google.com/github/jansoe/AIHorizons24/blob/main/WordVectors.ipynb\" target=\"_parent\"><img src=\"https://colab.research.google.com/assets/colab-badge.svg\" alt=\"Open In Colab\"/></a>"
      ]
    },
    {
      "cell_type": "markdown",
      "metadata": {
        "id": "RX02S6Aq8OxF"
      },
      "source": [
        "Word Vectors"
      ]
    },
    {
      "cell_type": "code",
      "execution_count": 1,
      "metadata": {
        "id": "mK--s8fkwwPI"
      },
      "outputs": [],
      "source": [
        "#!pip install gensim"
      ]
    },
    {
      "cell_type": "code",
      "execution_count": 2,
      "metadata": {
        "cellView": "form",
        "id": "c6sSUrDuDXkX"
      },
      "outputs": [],
      "source": [
        "import matplotlib.pyplot as plt\n",
        "import numpy as np\n",
        "import gensim\n",
        "from pprint import pprint\n",
        "from sklearn.metrics.pairwise import cosine_similarity\n",
        "\n",
        "import warnings\n",
        "warnings.filterwarnings('ignore')"
      ]
    },
    {
      "cell_type": "markdown",
      "metadata": {
        "id": "UWH2te0GpahO"
      },
      "source": [
        "We can download pretrained word-vectors"
      ]
    },
    {
      "cell_type": "code",
      "execution_count": 3,
      "metadata": {
        "colab": {
          "base_uri": "https://localhost:8080/"
        },
        "id": "0KspB4YAtT0t",
        "outputId": "885652cf-6eaa-477d-b5e4-ef003aad348a"
      },
      "outputs": [
        {
          "output_type": "execute_result",
          "data": {
            "text/plain": [
              "dict_keys(['fasttext-wiki-news-subwords-300', 'conceptnet-numberbatch-17-06-300', 'word2vec-ruscorpora-300', 'word2vec-google-news-300', 'glove-wiki-gigaword-50', 'glove-wiki-gigaword-100', 'glove-wiki-gigaword-200', 'glove-wiki-gigaword-300', 'glove-twitter-25', 'glove-twitter-50', 'glove-twitter-100', 'glove-twitter-200', '__testing_word2vec-matrix-synopsis'])"
            ]
          },
          "metadata": {},
          "execution_count": 3
        }
      ],
      "source": [
        "import gensim.downloader as api\n",
        "api.info()['models'].keys()"
      ]
    },
    {
      "cell_type": "code",
      "execution_count": 4,
      "metadata": {
        "id": "ddSifIOVXLGS",
        "scrolled": true
      },
      "outputs": [],
      "source": [
        "model = api.load('glove-wiki-gigaword-300')"
      ]
    },
    {
      "cell_type": "markdown",
      "metadata": {
        "id": "1QuJ-8tnLBBD"
      },
      "source": [
        "### Visualisation of word vectors"
      ]
    },
    {
      "cell_type": "code",
      "execution_count": 5,
      "metadata": {
        "cellView": "form",
        "id": "erzLauumL1DM"
      },
      "outputs": [],
      "source": [
        "def plot_vector(v):\n",
        "    plt.subplots(figsize=(15,1))\n",
        "    plt.imshow(v.reshape(1,-1), aspect='auto', cmap=plt.cm.Spectral, vmin=-.3, vmax=.3)\n",
        "    _ = plt.colorbar()\n",
        "    plt.yticks([])\n",
        "    plt.xlabel('Neuron')"
      ]
    },
    {
      "cell_type": "code",
      "execution_count": 6,
      "metadata": {
        "colab": {
          "base_uri": "https://localhost:8080/",
          "height": 177
        },
        "id": "KU7-j75qtt9C",
        "outputId": "6388db95-1620-4053-8407-f44b66a1fdac"
      },
      "outputs": [
        {
          "output_type": "display_data",
          "data": {
            "text/plain": [
              "<Figure size 1500x100 with 2 Axes>"
            ],
            "image/png": "[encoded data removed]"
          },
          "metadata": {}
        }
      ],
      "source": [
        "word_vector1 = model.get_vector('noodles', norm=True)\n",
        "plot_vector(word_vector1)"
      ]
    },
    {
      "cell_type": "markdown",
      "metadata": {
        "id": "_WelWGM61RBz"
      },
      "source": [
        "## Word similarities"
      ]
    },
    {
      "cell_type": "markdown",
      "metadata": {
        "id": "y66jPGvEqaas"
      },
      "source": [
        "If words are semantically similar, their word vectors are similar"
      ]
    },
    {
      "cell_type": "code",
      "execution_count": 20,
      "metadata": {
        "colab": {
          "base_uri": "https://localhost:8080/",
          "height": 474
        },
        "id": "YF_f8YZWWAor",
        "outputId": "1570cea5-6ff1-4082-a5b9-026e1d713388"
      },
      "outputs": [
        {
          "output_type": "execute_result",
          "data": {
            "text/plain": [
              "Text(0, 0.5, 'shoe')"
            ]
          },
          "metadata": {},
          "execution_count": 20
        },
        {
          "output_type": "display_data",
          "data": {
            "text/plain": [
              "<Figure size 1500x100 with 2 Axes>"
            ],
            "image/png": "[encoded data removed]"
          },
          "metadata": {}
        },
        {
          "output_type": "display_data",
          "data": {
            "text/plain": [
              "<Figure size 1500x100 with 2 Axes>"
            ],
            "image/png": "[encoded data removed]"
          },
          "metadata": {}
        },
        {
          "output_type": "display_data",
          "data": {
            "text/plain": [
              "<Figure size 1500x100 with 2 Axes>"
            ],
            "image/png": "[encoded data removed]"
          },
          "metadata": {}
        }
      ],
      "source": [
        "word1 = 'noodles'\n",
        "word2 = 'pasta'\n",
        "word3 = 'shoe'\n",
        "\n",
        "\n",
        "word_vector1 = model.get_vector(word1, norm=True)\n",
        "plot_vector(word_vector1)\n",
        "plt.ylabel(word1)\n",
        "\n",
        "word_vector2 = model.get_vector(word2, norm=True)\n",
        "plot_vector(word_vector2)\n",
        "plt.ylabel(word2)\n",
        "\n",
        "word_vector3 = model.get_vector(word3, norm=True)\n",
        "plot_vector(word_vector3)\n",
        "plt.ylabel(word3)"
      ]
    },
    {
      "cell_type": "markdown",
      "metadata": {
        "id": "E_uQgFLEZaJ1"
      },
      "source": [
        "For each word, we can find the most similar vectors:"
      ]
    },
    {
      "cell_type": "code",
      "execution_count": 15,
      "metadata": {
        "colab": {
          "base_uri": "https://localhost:8080/"
        },
        "id": "dhvC6GotVUb8",
        "outputId": "7b5d080b-dcd1-43af-ea0b-5a453d462e48"
      },
      "outputs": [
        {
          "output_type": "execute_result",
          "data": {
            "text/plain": [
              "[('noodle', 0.6829882264137268),\n",
              " ('pasta', 0.634353756904602),\n",
              " ('vermicelli', 0.6315168738365173),\n",
              " ('tofu', 0.6053614616394043),\n",
              " ('cooked', 0.6040924787521362)]"
            ]
          },
          "metadata": {},
          "execution_count": 15
        }
      ],
      "source": [
        "model.most_similar('noodles', topn=5)"
      ]
    },
    {
      "cell_type": "code",
      "execution_count": 16,
      "metadata": {
        "colab": {
          "base_uri": "https://localhost:8080/"
        },
        "id": "7ZxJkZdzD5PB",
        "outputId": "b1577537-d8ed-422f-fc7f-3fa70d88fca8"
      },
      "outputs": [
        {
          "output_type": "execute_result",
          "data": {
            "text/plain": [
              "[('shoes', 0.7242045402526855),\n",
              " ('footwear', 0.5965994000434875),\n",
              " ('sneaker', 0.5847949981689453),\n",
              " ('sneakers', 0.5435681343078613),\n",
              " ('clothing', 0.5319083333015442)]"
            ]
          },
          "metadata": {},
          "execution_count": 16
        }
      ],
      "source": [
        "model.most_similar('shoe', topn=5)"
      ]
    },
    {
      "cell_type": "markdown",
      "metadata": {
        "id": "wVWQITrgpOLF"
      },
      "source": [
        "### Word calculations\n",
        "\n",
        "We can combine word vectors with addition/subtraction.\n",
        "\n",
        "For example we can calculate the new word vector `berlin` - `germany` + `italy`"
      ]
    },
    {
      "cell_type": "code",
      "execution_count": 17,
      "metadata": {
        "colab": {
          "base_uri": "https://localhost:8080/"
        },
        "id": "XWkCHwbX6ElZ",
        "outputId": "8400b454-e643-49a8-c8e9-512ced0d8de9"
      },
      "outputs": [
        {
          "output_type": "execute_result",
          "data": {
            "text/plain": [
              "[('rome', 0.7019403576850891)]"
            ]
          },
          "metadata": {},
          "execution_count": 17
        }
      ],
      "source": [
        "model.most_similar(positive=['berlin', 'italy'], negative=['germany'], topn=1)"
      ]
    },
    {
      "cell_type": "code",
      "execution_count": 11,
      "metadata": {
        "colab": {
          "base_uri": "https://localhost:8080/"
        },
        "id": "5MpCWK-e0NE_",
        "outputId": "38441145-3f85-4ec4-ce97-b3e01b18dc3c"
      },
      "outputs": [
        {
          "output_type": "execute_result",
          "data": {
            "text/plain": [
              "[('london', 0.5862621068954468)]"
            ]
          },
          "metadata": {},
          "execution_count": 11
        }
      ],
      "source": [
        "model.most_similar(positive=['berlin', 'uk'], negative=['germany'], topn=1)"
      ]
    },
    {
      "cell_type": "code",
      "execution_count": 12,
      "metadata": {
        "colab": {
          "base_uri": "https://localhost:8080/"
        },
        "id": "vGm2nzKOu9l6",
        "outputId": "d42a088a-a969-4d04-baeb-ea9bc8ce6298"
      },
      "outputs": [
        {
          "output_type": "execute_result",
          "data": {
            "text/plain": [
              "[('wine', 0.5321523547172546)]"
            ]
          },
          "metadata": {},
          "execution_count": 12
        }
      ],
      "source": [
        "model.most_similar(positive=['beer', 'italy'], negative=['germany'], topn=1)"
      ]
    },
    {
      "cell_type": "code",
      "execution_count": 13,
      "metadata": {
        "colab": {
          "base_uri": "https://localhost:8080/"
        },
        "id": "-OSz3WiA1RTk",
        "outputId": "5af08c06-ee04-4778-9172-8cedac151256"
      },
      "outputs": [
        {
          "output_type": "execute_result",
          "data": {
            "text/plain": [
              "[('vodka', 0.5345780849456787)]"
            ]
          },
          "metadata": {},
          "execution_count": 13
        }
      ],
      "source": [
        "model.most_similar(positive=['beer', 'russia'], negative=['germany'], topn=1)"
      ]
    },
    {
      "cell_type": "markdown",
      "metadata": {
        "id": "oKmJPrXFcywE"
      },
      "source": [
        "\n",
        "#### Task:\n",
        "\n",
        "Find some exmaples for word vector calculation that work well"
      ]
    },
    {
      "cell_type": "code",
      "execution_count": 13,
      "metadata": {
        "id": "4H1iU-_0cziM"
      },
      "outputs": [],
      "source": []
    }
  ],
  "metadata": {
    "colab": {
      "provenance": [],
      "include_colab_link": true
    },
    "gpuClass": "standard",
    "kernelspec": {
      "display_name": "Python 3 (ipykernel)",
      "language": "python",
      "name": "python3"
    },
    "language_info": {
      "codemirror_mode": {
        "name": "ipython",
        "version": 3
      },
      "file_extension": ".py",
      "mimetype": "text/x-python",
      "name": "python",
      "nbconvert_exporter": "python",
      "pygments_lexer": "ipython3",
      "version": "3.11.8"
    }
  },
  "nbformat": 4,
  "nbformat_minor": 0
}